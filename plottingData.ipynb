{
 "cells": [
  {
   "cell_type": "markdown",
   "metadata": {},
   "source": [
    "# Understanding the geometric diversity of inorganic and hybrid frameworks through structural coarse-graining\n",
    "\n",
    "## Thomas C. Nicholas, Andrew L. Goodwin and Volker L. Deringer\n",
    "\n",
    "### DOI: 10.1039/D0SC03287E\n",
    "\n",
    "Presented here are plotting scripts to generate the plots presented in the journal publication (see above).\n",
    "\n",
    "It is assumed this script is in a directory that also contains the \"data_from_publication\" folder.  Change the **pathToDataDirectory** variable in the second code cell if not the case."
   ]
  },
  {
   "cell_type": "code",
   "execution_count": null,
   "metadata": {},
   "outputs": [],
   "source": [
    "import pathlib\n",
    "import numpy as np\n",
    "import matplotlib.pyplot as plt\n",
    "from IPython.display import HTML, display"
   ]
  },
  {
   "cell_type": "code",
   "execution_count": null,
   "metadata": {},
   "outputs": [],
   "source": [
    "# give path to data directory...\n",
    "pathToDataDirectory = \"data_from_publication\"\n",
    "\n",
    "# read in data...\n",
    "groupNames = [ 'Zeolites_and_AlPOs',\n",
    "               'ZIFs', 'CdIFs', 'BIFs', 'TIFs', \n",
    "               'SiO2', 'other_AB2', 'Cyanides', \n",
    "               'Clathrates', 'Ices_ordered', 'Ices_disordered' ]\n",
    "\n",
    "groupData = []\n",
    "for group in groupNames:\n",
    "    search = pathlib.Path(f\"{pathToDataDirectory}/{group}.csv\")\n",
    "    groupData.append(np.genfromtxt(search, delimiter=',', skip_header=1, \n",
    "                         dtype=[(\"compound_reference\", \"U25\"),\n",
    "                                (\"compound_name\", \"U25\"),\n",
    "                                (\"MDS_coord1\",float),\n",
    "                                (\"MDS_coord2\", float),\n",
    "                                (\"density\", float),\n",
    "                                (\"aSite_heterogeneity\", float)]))\n",
    "\n",
    "# also get concatenated form...\n",
    "concatGroupData = np.concatenate(groupData).ravel()\n",
    "\n",
    "# format printed data tables...\n",
    "def display_table(data):\n",
    "    html = \"<table>\"\n",
    "    for row in data:\n",
    "        html += \"<tr>\"\n",
    "        for field in row:\n",
    "            if type(field) == np.float64:\n",
    "                field = np.round(field,2)\n",
    "            elif type(field) == np.str_:\n",
    "                field = field.replace(\"_\", \" \")\n",
    "                if field[:4] == \"Ices\":\n",
    "                    field = field.replace(\" \", \" (\") + \")\"\n",
    "            html += \"<td><h4>%s</h4><td>\"%(field)\n",
    "        html += \"</tr>\"\n",
    "    html += \"</table>\"\n",
    "    display(HTML(html))"
   ]
  },
  {
   "cell_type": "code",
   "execution_count": null,
   "metadata": {},
   "outputs": [],
   "source": [
    "# formatting for plots...\n",
    "oxblue = '#002147'; oxteal = '#44687d'; oxcyan = '#4891dc'; oxgreen = '#69913b'\n",
    "oxorange = '#cf7a30'; oxred = '#be0f34'; oxgrey = '#a79d96'\n",
    "\n",
    "colors = [ oxgrey,\n",
    "           oxblue, oxblue, oxblue, oxblue,\n",
    "           oxorange, oxred, oxred, oxgreen,\n",
    "           oxcyan, oxcyan ]\n",
    "\n",
    "facecolors = [ colors[0],\n",
    "               (0,0,0,0), (0,0,0,0), (0,0,0,0), (0,0,0,0),\n",
    "               colors[5], colors[6], (0,0,0,0), colors[8],\n",
    "               colors[9],(0,0,0,0) ]\n",
    "\n",
    "markers = [ '+',\n",
    "            's', 'D', '^', 'v',\n",
    "            'o', 'o', 'o', '*',\n",
    "            'D', 'D' ]\n",
    "\n",
    "sizes = [ 50, \n",
    "          50, 50, 50, 50, \n",
    "          60, 60, 60, 80,\n",
    "          60, 60]"
   ]
  },
  {
   "cell_type": "markdown",
   "metadata": {},
   "source": [
    "## Fig. 2:  A two-dimensional map for inorganic and hybrid tetrahedral structures."
   ]
  },
  {
   "cell_type": "code",
   "execution_count": null,
   "metadata": {},
   "outputs": [],
   "source": [
    "# plotting main map...\n",
    "scale_fac = 3\n",
    "plt.figure(figsize=(11*scale_fac, 8*scale_fac))\n",
    "\n",
    "xmin = -1.5; xmax = 1.5\n",
    "ymin = -1.4; ymax = 1.2\n",
    "centre = [ (xmin+xmax)/2., (ymin+ymax)/2 ]\n",
    "\n",
    "for i,group in enumerate(groupData):\n",
    "    plt.scatter(group[\"MDS_coord2\"], group[\"MDS_coord1\"], facecolors=facecolors[i], edgecolors=colors[i],\n",
    "                marker=markers[i], s=sizes[i]*5, lw=4, label=groupNames[i])\n",
    "    \n",
    "plt.xlim(xmin, xmax); plt.ylim(ymin, ymax)\n",
    "plt.xticks([]); plt.yticks([])\n",
    "plt.legend(loc=\"upper right\", prop={'size': 22})\n",
    "plt.show()\n",
    "\n",
    "print(\"\\033[1mRelative distributions (relative to SiO2):\\033[0m\")\n",
    "data = np.genfromtxt(pathlib.Path(\"data_from_publication/relative_distributions.csv\"), delimiter=',',dtype=[(\"materialFamily_name\", \"U25\"),(\"distr\", float)])\n",
    "display_table(data)"
   ]
  },
  {
   "cell_type": "markdown",
   "metadata": {},
   "source": [
    "## Fig. 3a: A-site SOAP heterogeneity  "
   ]
  },
  {
   "cell_type": "code",
   "execution_count": null,
   "metadata": {},
   "outputs": [],
   "source": [
    "# plotting A-site heterogeneity colour-coded map...\n",
    "plt.figure(figsize=(10, 7))\n",
    "plt.title(\"A-site SOAP heterogeneity\",fontweight=\"bold\")\n",
    "\n",
    "plt.scatter(concatGroupData[\"MDS_coord2\"],\n",
    "            concatGroupData[\"MDS_coord1\"],\n",
    "            c=concatGroupData[\"aSite_heterogeneity\"], \n",
    "            s=75, lw=0, cmap='viridis')\n",
    "\n",
    "plt.colorbar(); plt.xticks([]); plt.yticks([])\n",
    "\n",
    "plt.clim(0,1)\n",
    "plt.xlim(xmin, xmax)\n",
    "plt.ylim(ymin, ymax)\n",
    "\n",
    "plt.show()"
   ]
  },
  {
   "cell_type": "markdown",
   "metadata": {},
   "source": [
    "## Fig. 3b:  T density (normalised to $\\beta$-cristobalite)"
   ]
  },
  {
   "cell_type": "code",
   "execution_count": null,
   "metadata": {},
   "outputs": [],
   "source": [
    "# plotting T-density colour-coded map...\n",
    "plt.figure(figsize=(10, 7))\n",
    "plt.title(\"T density (normalised to \\u03B2-cristobalite)\",fontweight=\"bold\")\n",
    "\n",
    "plt.scatter(concatGroupData[\"MDS_coord2\"],\n",
    "            concatGroupData[\"MDS_coord1\"],\n",
    "            c=concatGroupData[\"density\"]/81.1898484793241, \n",
    "            s=75, lw=0, cmap='inferno_r')\n",
    "\n",
    "plt.colorbar(); plt.xticks([]); plt.yticks([])\n",
    "\n",
    "plt.clim(0.4,1.4)\n",
    "plt.xlim(xmin, xmax)\n",
    "plt.ylim(ymin, ymax)\n",
    "\n",
    "plt.show()"
   ]
  },
  {
   "cell_type": "markdown",
   "metadata": {},
   "source": [
    "## Fig. 3c:  A-site SOAP heterogeneity distributions per family"
   ]
  },
  {
   "cell_type": "code",
   "execution_count": null,
   "metadata": {},
   "outputs": [],
   "source": [
    "plt.figure(figsize=(8.15, 7))\n",
    "plt.title(\"A-site SOAP heterogeneity distributions per family\",fontweight=\"bold\")\n",
    "\n",
    "newOrderNames = [\"Zeolites\\n&\\nAlPOs\",  # Zeolites&AlPOs\n",
    "                 groupNames[5],  # SiO2\n",
    "                 \"other AB2\",  # OtherAB2\n",
    "                 groupNames[7],  # Cyanides\n",
    "                 groupNames[8],  # Clathrates\n",
    "                 \"Ices (DO)\", # Ices(DO)\n",
    "                 \"Ices (O)\",  # Ices(O)\n",
    "                 groupNames[1],  # ZIFs\n",
    "                 groupNames[2],  # CdIFs\n",
    "                 groupNames[3],  # BIFs\n",
    "                 groupNames[4]]  # TIFs\n",
    "\n",
    "hs = [groupData[0][\"aSite_heterogeneity\"],  # Zeolites&AlPOs\n",
    "      groupData[5][\"aSite_heterogeneity\"],  # SiO2\n",
    "      groupData[6][\"aSite_heterogeneity\"],  # OtherAB2\n",
    "      groupData[7][\"aSite_heterogeneity\"],  # Cyanides\n",
    "      groupData[8][\"aSite_heterogeneity\"],  # Clathrates\n",
    "      groupData[10][\"aSite_heterogeneity\"], # Ices(DO)\n",
    "      groupData[9][\"aSite_heterogeneity\"],  # Ices(O)\n",
    "      groupData[1][\"aSite_heterogeneity\"],  # ZIFs\n",
    "      groupData[2][\"aSite_heterogeneity\"],  # CdIFs\n",
    "      groupData[3][\"aSite_heterogeneity\"],  # BIFs\n",
    "      groupData[4][\"aSite_heterogeneity\"]]  # TIFs\n",
    "\n",
    "\n",
    "plt.boxplot(hs, showfliers=False, whis=[0,100], labels=newOrderNames)\n",
    "plt.xticks(rotation=45); plt.xlim(0,12)\n",
    "plt.ylabel(\"A-site SOAP heterogeneity \\u2192\", fontweight=\"bold\"); plt.ylim(-0.1,1.0)\n",
    "\n",
    "plt.show()"
   ]
  },
  {
   "cell_type": "markdown",
   "metadata": {},
   "source": [
    "## Fig. 3d:  T-density vs A-site SOAP heterogeneity"
   ]
  },
  {
   "cell_type": "code",
   "execution_count": null,
   "metadata": {},
   "outputs": [],
   "source": [
    "plt.figure(figsize=(8.15, 7))\n",
    "plt.title(\"T-density vs A-site SOAP heterogeneity\",fontweight=\"bold\")\n",
    "\n",
    "for i,group in enumerate(groupData):\n",
    "    if i <= 4: \n",
    "        plt.scatter(group[\"aSite_heterogeneity\"], group[\"density\"]/81.1898484793241, facecolors=facecolors[i], edgecolors=colors[i],\n",
    "                marker=markers[i], s=sizes[i]*1.5, lw=2, label=groupNames[i])\n",
    "\n",
    "plt.legend(loc=\"upper right\", prop={'size': 12})\n",
    "plt.ylim(0,2.5)\n",
    "plt.ylabel(\"T density (normalised) \\u2192\", fontweight=\"bold\")\n",
    "plt.xlim(-0.1,1.0)\n",
    "plt.xlabel(\"A-site SOAP heterogeneity \\u2192\", fontweight=\"bold\")\n",
    "\n",
    "plt.show()"
   ]
  }
 ],
 "metadata": {
  "kernelspec": {
   "display_name": "Python 3",
   "language": "python",
   "name": "python3"
  },
  "language_info": {
   "codemirror_mode": {
    "name": "ipython",
    "version": 3
   },
   "file_extension": ".py",
   "mimetype": "text/x-python",
   "name": "python",
   "nbconvert_exporter": "python",
   "pygments_lexer": "ipython3",
   "version": "3.7.6"
  }
 },
 "nbformat": 4,
 "nbformat_minor": 4
}
